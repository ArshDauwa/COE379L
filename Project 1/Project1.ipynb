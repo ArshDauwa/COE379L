{
 "cells": [
  {
   "cell_type": "code",
   "execution_count": 1249,
   "id": "7d61d5d3-67c7-40a9-97e4-1954f2961e30",
   "metadata": {},
   "outputs": [],
   "source": [
    "import pandas as pd\n",
    "import sklearn \n",
    "import seaborn as sns\n",
    "import matplotlib.pyplot as plt\n",
    "from sklearn.model_selection import train_test_split, GridSearchCV\n",
    "from sklearn import datasets\n",
    "from sklearn.linear_model import SGDClassifier\n",
    "from sklearn.metrics import accuracy_score, recall_score, precision_score, f1_score\n",
    "from sklearn.neighbors import KNeighborsClassifier\n",
    "import numpy as np\n",
    "import warnings\n",
    "from sklearn.preprocessing import LabelEncoder\n",
    "from sklearn.metrics import classification_report\n"
   ]
  },
  {
   "cell_type": "code",
   "execution_count": 1250,
   "id": "474b04e0-d259-47da-9afb-975b82bf106b",
   "metadata": {},
   "outputs": [],
   "source": [
    "warnings.filterwarnings('ignore')\n",
    "# Read in our dataset\n",
    "cancer_data = pd.read_csv('project1.csv')"
   ]
  },
  {
   "cell_type": "code",
   "execution_count": 1251,
   "id": "0a56b186-1fb6-424a-a54f-469ed1842afe",
   "metadata": {},
   "outputs": [
    {
     "data": {
      "text/plain": [
       "(386, 10)"
      ]
     },
     "execution_count": 1251,
     "metadata": {},
     "output_type": "execute_result"
    }
   ],
   "source": [
    "# Identify the shape of raw data\n",
    "cancer_data.shape"
   ]
  },
  {
   "cell_type": "code",
   "execution_count": 1252,
   "id": "54096033-8f20-4417-acec-880144d00e6a",
   "metadata": {},
   "outputs": [
    {
     "data": {
      "text/plain": [
       "3860"
      ]
     },
     "execution_count": 1252,
     "metadata": {},
     "output_type": "execute_result"
    }
   ],
   "source": [
    "# Identify the sie of raw data\n",
    "cancer_data.size"
   ]
  },
  {
   "cell_type": "code",
   "execution_count": 1253,
   "id": "1cbfc035-0ad4-4b4f-9f9f-34e9b75ff06e",
   "metadata": {},
   "outputs": [
    {
     "name": "stdout",
     "output_type": "stream",
     "text": [
      "<class 'pandas.core.frame.DataFrame'>\n",
      "RangeIndex: 386 entries, 0 to 385\n",
      "Data columns (total 10 columns):\n",
      " #   Column       Non-Null Count  Dtype \n",
      "---  ------       --------------  ----- \n",
      " 0   class        386 non-null    object\n",
      " 1   age          386 non-null    object\n",
      " 2   menopause    386 non-null    object\n",
      " 3   tumor-size   385 non-null    object\n",
      " 4   inv-nodes    385 non-null    object\n",
      " 5   node-caps    386 non-null    object\n",
      " 6   deg-malig    386 non-null    int64 \n",
      " 7   breast       386 non-null    object\n",
      " 8   breast-quad  386 non-null    object\n",
      " 9   irradiat     386 non-null    object\n",
      "dtypes: int64(1), object(9)\n",
      "memory usage: 30.3+ KB\n"
     ]
    }
   ],
   "source": [
    "# Get info about datatype\n",
    "cancer_data.info()"
   ]
  },
  {
   "cell_type": "code",
   "execution_count": 1254,
   "id": "aa33150b-87e6-4e23-8a02-2d8e9a0f6182",
   "metadata": {},
   "outputs": [],
   "source": [
    "# cast column vals to type category\n",
    "cancer_data['class'] = cancer_data['class'].astype(\"category\")\n",
    "cancer_data['age'] = cancer_data['age'].astype(\"category\")\n",
    "cancer_data['menopause'] = cancer_data['menopause'].astype(\"category\")\n",
    "cancer_data['tumor-size'] = cancer_data['tumor-size'].astype(\"category\")\n",
    "cancer_data['inv-nodes'] = cancer_data['inv-nodes'].astype(\"category\")\n",
    "cancer_data['node-caps'] = cancer_data['node-caps'].astype(\"category\")\n",
    "cancer_data['breast'] = cancer_data['breast'].astype(\"category\")\n",
    "cancer_data['breast-quad'] = cancer_data['breast-quad'].astype(\"category\")\n",
    "cancer_data['irradiat'] = cancer_data['irradiat'].astype(\"category\")"
   ]
  },
  {
   "cell_type": "code",
   "execution_count": 1255,
   "id": "bea1bcaf-4d9b-49ca-9fd2-b6b0f41ad550",
   "metadata": {},
   "outputs": [
    {
     "data": {
      "text/plain": [
       "11"
      ]
     },
     "execution_count": 1255,
     "metadata": {},
     "output_type": "execute_result"
    }
   ],
   "source": [
    "# Check if any duplicate rows exist in the data \n",
    "cancer_data.duplicated().sum()"
   ]
  },
  {
   "cell_type": "code",
   "execution_count": 1256,
   "id": "caec7658-5ab7-4d45-9666-bacf594ee979",
   "metadata": {},
   "outputs": [],
   "source": [
    "# Treat duplicated rows\n",
    "cancer_data = cancer_data.drop_duplicates()"
   ]
  },
  {
   "cell_type": "code",
   "execution_count": 1257,
   "id": "68fcd862-6609-4a4e-93e6-3bf9c6a493f2",
   "metadata": {},
   "outputs": [
    {
     "data": {
      "text/plain": [
       "class          0\n",
       "age            0\n",
       "menopause      0\n",
       "tumor-size     1\n",
       "inv-nodes      1\n",
       "node-caps      0\n",
       "deg-malig      0\n",
       "breast         0\n",
       "breast-quad    0\n",
       "irradiat       0\n",
       "dtype: int64"
      ]
     },
     "execution_count": 1257,
     "metadata": {},
     "output_type": "execute_result"
    }
   ],
   "source": [
    "# Check to see if any missing data exists in the dataset\n",
    "cancer_data.isnull().sum()"
   ]
  },
  {
   "cell_type": "code",
   "execution_count": 1258,
   "id": "c69d1fa7-c70e-46d8-bd40-faf5164c7412",
   "metadata": {},
   "outputs": [],
   "source": [
    "# Treating missing values from 'tumor-size' and 'inv-nodes' columns with the mode of the age group\n",
    "cancer_data['tumor-size'] = cancer_data.groupby(['breast-quad'])['tumor-size'].transform(lambda x: x.fillna(x.mode()[0]))\n",
    "cancer_data['inv-nodes'] = cancer_data.groupby(['breast-quad'])['inv-nodes'].transform(lambda x: x.fillna(x.mode()[0]))"
   ]
  },
  {
   "cell_type": "code",
   "execution_count": 1259,
   "id": "0c902e9f-5624-4e83-b2a8-496d67687065",
   "metadata": {},
   "outputs": [
    {
     "data": {
      "text/plain": [
       "Text(0.5, 1.0, 'Number of Tumor Size')"
      ]
     },
     "execution_count": 1259,
     "metadata": {},
     "output_type": "execute_result"
    },
    {
     "data": {
      "image/png": "[encoded data removed]",
      "text/plain": [
       "<Figure size 640x480 with 1 Axes>"
      ]
     },
     "metadata": {},
     "output_type": "display_data"
    }
   ],
   "source": [
    "# Histogram Counting the tumor size\n",
    "sns.histplot(data=cancer_data['tumor-size'])\n",
    "plt.title(\"Number of Tumor Size\")"
   ]
  },
  {
   "cell_type": "code",
   "execution_count": 1260,
   "id": "08fa0e87-1051-441b-8ff7-66ae0d413aba",
   "metadata": {},
   "outputs": [
    {
     "data": {
      "text/plain": [
       "Text(0.5, 1.0, 'Number of Breast Quadrant')"
      ]
     },
     "execution_count": 1260,
     "metadata": {},
     "output_type": "execute_result"
    },
    {
     "data": {
      "image/png": "[encoded data removed]",
      "text/plain": [
       "<Figure size 640x480 with 1 Axes>"
      ]
     },
     "metadata": {},
     "output_type": "display_data"
    }
   ],
   "source": [
    "# Histogram Counting the location of the tumor\n",
    "sns.histplot(data=cancer_data['breast-quad'])\n",
    "plt.title(\"Number of Breast Quadrant\")"
   ]
  },
  {
   "cell_type": "code",
   "execution_count": 1261,
   "id": "a1f27821-14c5-4482-80a3-5088b38cfabf",
   "metadata": {},
   "outputs": [
    {
     "data": {
      "text/plain": [
       "Text(0.5, 1.0, 'INV Nodes Distribution')"
      ]
     },
     "execution_count": 1261,
     "metadata": {},
     "output_type": "execute_result"
    },
    {
     "data": {
      "image/png": "[encoded data removed]",
      "text/plain": [
       "<Figure size 640x480 with 1 Axes>"
      ]
     },
     "metadata": {},
     "output_type": "display_data"
    }
   ],
   "source": [
    "# Box Plot for Inv-Nodes Column\n",
    "sns.boxplot(data=cancer_data, x=\"inv-nodes\")\n",
    "plt.title(\"INV Nodes Distribution\")"
   ]
  },
  {
   "cell_type": "code",
   "execution_count": 1262,
   "id": "992b0985-d209-4165-aabf-a4989651ba7e",
   "metadata": {},
   "outputs": [
    {
     "name": "stdout",
     "output_type": "stream",
     "text": [
      "<class 'pandas.core.frame.DataFrame'>\n",
      "Index: 375 entries, 0 to 385\n",
      "Data columns (total 36 columns):\n",
      " #   Column                   Non-Null Count  Dtype\n",
      "---  ------                   --------------  -----\n",
      " 0   deg-malig                375 non-null    int64\n",
      " 1   class_recurrence-events  375 non-null    bool \n",
      " 2   menopause_lt40           375 non-null    bool \n",
      " 3   menopause_premeno        375 non-null    bool \n",
      " 4   age_30-39                375 non-null    bool \n",
      " 5   age_40-49                375 non-null    bool \n",
      " 6   age_50-59                375 non-null    bool \n",
      " 7   age_60-69                375 non-null    bool \n",
      " 8   age_70-79                375 non-null    bool \n",
      " 9   tumor-size_10-14         375 non-null    bool \n",
      " 10  tumor-size_15-19         375 non-null    bool \n",
      " 11  tumor-size_20-24         375 non-null    bool \n",
      " 12  tumor-size_25-29         375 non-null    bool \n",
      " 13  tumor-size_30-34         375 non-null    bool \n",
      " 14  tumor-size_35-39         375 non-null    bool \n",
      " 15  tumor-size_40-44         375 non-null    bool \n",
      " 16  tumor-size_45-49         375 non-null    bool \n",
      " 17  tumor-size_5-9           375 non-null    bool \n",
      " 18  tumor-size_50-54         375 non-null    bool \n",
      " 19  inv-nodes_12-14          375 non-null    bool \n",
      " 20  inv-nodes_15-17          375 non-null    bool \n",
      " 21  inv-nodes_24-26          375 non-null    bool \n",
      " 22  inv-nodes_3-5            375 non-null    bool \n",
      " 23  inv-nodes_6-8            375 non-null    bool \n",
      " 24  inv-nodes_9-11           375 non-null    bool \n",
      " 25  node-caps_?              375 non-null    bool \n",
      " 26  node-caps_no             375 non-null    bool \n",
      " 27  node-caps_yes            375 non-null    bool \n",
      " 28  breast_right             375 non-null    bool \n",
      " 29  breast-quad_?            375 non-null    bool \n",
      " 30  breast-quad_central      375 non-null    bool \n",
      " 31  breast-quad_left_low     375 non-null    bool \n",
      " 32  breast-quad_left_up      375 non-null    bool \n",
      " 33  breast-quad_right_low    375 non-null    bool \n",
      " 34  breast-quad_right_up     375 non-null    bool \n",
      " 35  irradiat_yes             375 non-null    bool \n",
      "dtypes: bool(35), int64(1)\n",
      "memory usage: 18.7 KB\n"
     ]
    }
   ],
   "source": [
    "# Performing One hot encoding on Categorical Columns\n",
    "cancer_data = pd.get_dummies(cancer_data, columns=[\"class\", \"menopause\", \"age\", \"tumor-size\", \"inv-nodes\", \"node-caps\", \"breast\", \"breast-quad\", \"irradiat\"], drop_first=True)\n",
    "cancer_data.info()"
   ]
  },
  {
   "cell_type": "code",
   "execution_count": 1263,
   "id": "bf3d486f-ce9c-48ca-b386-8c7adaa3b229",
   "metadata": {},
   "outputs": [],
   "source": [
    "# Assigning subset of data as X and y \n",
    "X = cancer_data.drop('class_recurrence-events', axis=1)\n",
    "y = cancer_data[\"class_recurrence-events\"]"
   ]
  },
  {
   "cell_type": "code",
   "execution_count": 1264,
   "id": "3d601af1-1685-4923-8cf4-6748d43ae9f2",
   "metadata": {},
   "outputs": [
    {
     "data": {
      "text/html": [
       "<style>#sk-container-id-84 {color: black;}#sk-container-id-84 pre{padding: 0;}#sk-container-id-84 div.sk-toggleable {background-color: white;}#sk-container-id-84 label.sk-toggleable__label {cursor: pointer;display: block;width: 100%;margin-bottom: 0;padding: 0.3em;box-sizing: border-box;text-align: center;}#sk-container-id-84 label.sk-toggleable__label-arrow:before {content: \"▸\";float: left;margin-right: 0.25em;color: #696969;}#sk-container-id-84 label.sk-toggleable__label-arrow:hover:before {color: black;}#sk-container-id-84 div.sk-estimator:hover label.sk-toggleable__label-arrow:before {color: black;}#sk-container-id-84 div.sk-toggleable__content {max-height: 0;max-width: 0;overflow: hidden;text-align: left;background-color: #f0f8ff;}#sk-container-id-84 div.sk-toggleable__content pre {margin: 0.2em;color: black;border-radius: 0.25em;background-color: #f0f8ff;}#sk-container-id-84 input.sk-toggleable__control:checked~div.sk-toggleable__content {max-height: 200px;max-width: 100%;overflow: auto;}#sk-container-id-84 input.sk-toggleable__control:checked~label.sk-toggleable__label-arrow:before {content: \"▾\";}#sk-container-id-84 div.sk-estimator input.sk-toggleable__control:checked~label.sk-toggleable__label {background-color: #d4ebff;}#sk-container-id-84 div.sk-label input.sk-toggleable__control:checked~label.sk-toggleable__label {background-color: #d4ebff;}#sk-container-id-84 input.sk-hidden--visually {border: 0;clip: rect(1px 1px 1px 1px);clip: rect(1px, 1px, 1px, 1px);height: 1px;margin: -1px;overflow: hidden;padding: 0;position: absolute;width: 1px;}#sk-container-id-84 div.sk-estimator {font-family: monospace;background-color: #f0f8ff;border: 1px dotted black;border-radius: 0.25em;box-sizing: border-box;margin-bottom: 0.5em;}#sk-container-id-84 div.sk-estimator:hover {background-color: #d4ebff;}#sk-container-id-84 div.sk-parallel-item::after {content: \"\";width: 100%;border-bottom: 1px solid gray;flex-grow: 1;}#sk-container-id-84 div.sk-label:hover label.sk-toggleable__label {background-color: #d4ebff;}#sk-container-id-84 div.sk-serial::before {content: \"\";position: absolute;border-left: 1px solid gray;box-sizing: border-box;top: 0;bottom: 0;left: 50%;z-index: 0;}#sk-container-id-84 div.sk-serial {display: flex;flex-direction: column;align-items: center;background-color: white;padding-right: 0.2em;padding-left: 0.2em;position: relative;}#sk-container-id-84 div.sk-item {position: relative;z-index: 1;}#sk-container-id-84 div.sk-parallel {display: flex;align-items: stretch;justify-content: center;background-color: white;position: relative;}#sk-container-id-84 div.sk-item::before, #sk-container-id-84 div.sk-parallel-item::before {content: \"\";position: absolute;border-left: 1px solid gray;box-sizing: border-box;top: 0;bottom: 0;left: 50%;z-index: -1;}#sk-container-id-84 div.sk-parallel-item {display: flex;flex-direction: column;z-index: 1;position: relative;background-color: white;}#sk-container-id-84 div.sk-parallel-item:first-child::after {align-self: flex-end;width: 50%;}#sk-container-id-84 div.sk-parallel-item:last-child::after {align-self: flex-start;width: 50%;}#sk-container-id-84 div.sk-parallel-item:only-child::after {width: 0;}#sk-container-id-84 div.sk-dashed-wrapped {border: 1px dashed gray;margin: 0 0.4em 0.5em 0.4em;box-sizing: border-box;padding-bottom: 0.4em;background-color: white;}#sk-container-id-84 div.sk-label label {font-family: monospace;font-weight: bold;display: inline-block;line-height: 1.2em;}#sk-container-id-84 div.sk-label-container {text-align: center;}#sk-container-id-84 div.sk-container {/* jupyter's `normalize.less` sets `[hidden] { display: none; }` but bootstrap.min.css set `[hidden] { display: none !important; }` so we also need the `!important` here to be able to override the default hidden behavior on the sphinx rendered scikit-learn.org. See: https://github.com/scikit-learn/scikit-learn/issues/21755 */display: inline-block !important;position: relative;}#sk-container-id-84 div.sk-text-repr-fallback {display: none;}</style><div id=\"sk-container-id-84\" class=\"sk-top-container\"><div class=\"sk-text-repr-fallback\"><pre>SGDClassifier(alpha=0.1, loss=&#x27;perceptron&#x27;)</pre><b>In a Jupyter environment, please rerun this cell to show the HTML representation or trust the notebook. <br />On GitHub, the HTML representation is unable to render, please try loading this page with nbviewer.org.</b></div><div class=\"sk-container\" hidden><div class=\"sk-item\"><div class=\"sk-estimator sk-toggleable\"><input class=\"sk-toggleable__control sk-hidden--visually\" id=\"sk-estimator-id-100\" type=\"checkbox\" checked><label for=\"sk-estimator-id-100\" class=\"sk-toggleable__label sk-toggleable__label-arrow\">SGDClassifier</label><div class=\"sk-toggleable__content\"><pre>SGDClassifier(alpha=0.1, loss=&#x27;perceptron&#x27;)</pre></div></div></div></div></div>"
      ],
      "text/plain": [
       "SGDClassifier(alpha=0.1, loss='perceptron')"
      ]
     },
     "execution_count": 1264,
     "metadata": {},
     "output_type": "execute_result"
    }
   ],
   "source": [
    "# Linear Classification\n",
    "X_train, X_test, y_train, y_test = train_test_split(X, y, test_size = 0.3, random_state = 1)\n",
    "clf = SGDClassifier(loss=\"perceptron\", alpha=0.1)\n",
    "clf.fit(X_train, y_train)"
   ]
  },
  {
   "cell_type": "code",
   "execution_count": 1265,
   "id": "092f2188-804b-4d08-b0c0-abb7688548e6",
   "metadata": {},
   "outputs": [
    {
     "name": "stdout",
     "output_type": "stream",
     "text": [
      "Test Accuracy: 0.5398\n",
      "Train Accuracy: 0.6031\n",
      "\n",
      "Test Recall: 0.5398\n",
      "Train Recall: 0.6031\n",
      "\n",
      "Test Precision: 0.6558\n",
      "Train Precision: 0.7092\n",
      "\n",
      "Test F1 Score: 0.5526\n",
      "Train F1 Score: 0.6112\n",
      "\n",
      "              precision    recall  f1-score   support\n",
      "\n",
      "       False       0.78      0.46      0.58        78\n",
      "        True       0.37      0.71      0.49        35\n",
      "\n",
      "    accuracy                           0.54       113\n",
      "   macro avg       0.58      0.59      0.54       113\n",
      "weighted avg       0.66      0.54      0.55       113\n",
      "\n"
     ]
    }
   ],
   "source": [
    "# Accuracy for Linear Classification\n",
    "accuracy_test = accuracy_score(y_test, clf.predict(X_test))\n",
    "accuracy_train = accuracy_score(y_train, clf.predict(X_train))\n",
    "\n",
    "print(f\"Test Accuracy: {accuracy_test:.4f}\")\n",
    "print(f\"Train Accuracy: {accuracy_train:.4f}\\n\")\n",
    "\n",
    "# Recall for Linear Classification\n",
    "recall_test = recall_score(y_test, clf.predict(X_test), average='weighted')\n",
    "recall_train = recall_score(y_train, clf.predict(X_train), average='weighted')\n",
    "\n",
    "print(f\"Test Recall: {recall_test:.4f}\")\n",
    "print(f\"Train Recall: {recall_train:.4f}\\n\")\n",
    "\n",
    "# Precision for Linear Classification\n",
    "precision_test = precision_score(y_test, clf.predict(X_test), average='weighted')\n",
    "precision_train = precision_score(y_train, clf.predict(X_train), average='weighted')\n",
    "\n",
    "print(f\"Test Precision: {precision_test:.4f}\")\n",
    "print(f\"Train Precision: {precision_train:.4f}\\n\")\n",
    "\n",
    "# F-1 Score for Linear Classification\n",
    "f1_test = f1_score(y_test, clf.predict(X_test), average='weighted')\n",
    "f1_train = f1_score(y_train, clf.predict(X_train), average='weighted')\n",
    "\n",
    "print(f\"Test F1 Score: {f1_test:.4f}\")\n",
    "print(f\"Train F1 Score: {f1_train:.4f}\\n\")\n",
    "print(classification_report(y_test, clf.predict(X_test)))\n",
    "\n"
   ]
  },
  {
   "cell_type": "code",
   "execution_count": 1266,
   "id": "c84f3710-0b31-4d5e-9439-12e4ca7843ec",
   "metadata": {},
   "outputs": [
    {
     "data": {
      "text/html": [
       "<style>#sk-container-id-85 {color: black;}#sk-container-id-85 pre{padding: 0;}#sk-container-id-85 div.sk-toggleable {background-color: white;}#sk-container-id-85 label.sk-toggleable__label {cursor: pointer;display: block;width: 100%;margin-bottom: 0;padding: 0.3em;box-sizing: border-box;text-align: center;}#sk-container-id-85 label.sk-toggleable__label-arrow:before {content: \"▸\";float: left;margin-right: 0.25em;color: #696969;}#sk-container-id-85 label.sk-toggleable__label-arrow:hover:before {color: black;}#sk-container-id-85 div.sk-estimator:hover label.sk-toggleable__label-arrow:before {color: black;}#sk-container-id-85 div.sk-toggleable__content {max-height: 0;max-width: 0;overflow: hidden;text-align: left;background-color: #f0f8ff;}#sk-container-id-85 div.sk-toggleable__content pre {margin: 0.2em;color: black;border-radius: 0.25em;background-color: #f0f8ff;}#sk-container-id-85 input.sk-toggleable__control:checked~div.sk-toggleable__content {max-height: 200px;max-width: 100%;overflow: auto;}#sk-container-id-85 input.sk-toggleable__control:checked~label.sk-toggleable__label-arrow:before {content: \"▾\";}#sk-container-id-85 div.sk-estimator input.sk-toggleable__control:checked~label.sk-toggleable__label {background-color: #d4ebff;}#sk-container-id-85 div.sk-label input.sk-toggleable__control:checked~label.sk-toggleable__label {background-color: #d4ebff;}#sk-container-id-85 input.sk-hidden--visually {border: 0;clip: rect(1px 1px 1px 1px);clip: rect(1px, 1px, 1px, 1px);height: 1px;margin: -1px;overflow: hidden;padding: 0;position: absolute;width: 1px;}#sk-container-id-85 div.sk-estimator {font-family: monospace;background-color: #f0f8ff;border: 1px dotted black;border-radius: 0.25em;box-sizing: border-box;margin-bottom: 0.5em;}#sk-container-id-85 div.sk-estimator:hover {background-color: #d4ebff;}#sk-container-id-85 div.sk-parallel-item::after {content: \"\";width: 100%;border-bottom: 1px solid gray;flex-grow: 1;}#sk-container-id-85 div.sk-label:hover label.sk-toggleable__label {background-color: #d4ebff;}#sk-container-id-85 div.sk-serial::before {content: \"\";position: absolute;border-left: 1px solid gray;box-sizing: border-box;top: 0;bottom: 0;left: 50%;z-index: 0;}#sk-container-id-85 div.sk-serial {display: flex;flex-direction: column;align-items: center;background-color: white;padding-right: 0.2em;padding-left: 0.2em;position: relative;}#sk-container-id-85 div.sk-item {position: relative;z-index: 1;}#sk-container-id-85 div.sk-parallel {display: flex;align-items: stretch;justify-content: center;background-color: white;position: relative;}#sk-container-id-85 div.sk-item::before, #sk-container-id-85 div.sk-parallel-item::before {content: \"\";position: absolute;border-left: 1px solid gray;box-sizing: border-box;top: 0;bottom: 0;left: 50%;z-index: -1;}#sk-container-id-85 div.sk-parallel-item {display: flex;flex-direction: column;z-index: 1;position: relative;background-color: white;}#sk-container-id-85 div.sk-parallel-item:first-child::after {align-self: flex-end;width: 50%;}#sk-container-id-85 div.sk-parallel-item:last-child::after {align-self: flex-start;width: 50%;}#sk-container-id-85 div.sk-parallel-item:only-child::after {width: 0;}#sk-container-id-85 div.sk-dashed-wrapped {border: 1px dashed gray;margin: 0 0.4em 0.5em 0.4em;box-sizing: border-box;padding-bottom: 0.4em;background-color: white;}#sk-container-id-85 div.sk-label label {font-family: monospace;font-weight: bold;display: inline-block;line-height: 1.2em;}#sk-container-id-85 div.sk-label-container {text-align: center;}#sk-container-id-85 div.sk-container {/* jupyter's `normalize.less` sets `[hidden] { display: none; }` but bootstrap.min.css set `[hidden] { display: none !important; }` so we also need the `!important` here to be able to override the default hidden behavior on the sphinx rendered scikit-learn.org. See: https://github.com/scikit-learn/scikit-learn/issues/21755 */display: inline-block !important;position: relative;}#sk-container-id-85 div.sk-text-repr-fallback {display: none;}</style><div id=\"sk-container-id-85\" class=\"sk-top-container\"><div class=\"sk-text-repr-fallback\"><pre>KNeighborsClassifier(n_neighbors=3)</pre><b>In a Jupyter environment, please rerun this cell to show the HTML representation or trust the notebook. <br />On GitHub, the HTML representation is unable to render, please try loading this page with nbviewer.org.</b></div><div class=\"sk-container\" hidden><div class=\"sk-item\"><div class=\"sk-estimator sk-toggleable\"><input class=\"sk-toggleable__control sk-hidden--visually\" id=\"sk-estimator-id-101\" type=\"checkbox\" checked><label for=\"sk-estimator-id-101\" class=\"sk-toggleable__label sk-toggleable__label-arrow\">KNeighborsClassifier</label><div class=\"sk-toggleable__content\"><pre>KNeighborsClassifier(n_neighbors=3)</pre></div></div></div></div></div>"
      ],
      "text/plain": [
       "KNeighborsClassifier(n_neighbors=3)"
      ]
     },
     "execution_count": 1266,
     "metadata": {},
     "output_type": "execute_result"
    }
   ],
   "source": [
    "# Instantiate the model for K-Nearest Neighbor Classifier\n",
    "knn = KNeighborsClassifier(n_neighbors=3)\n",
    "knn.fit(X_train, y_train)"
   ]
  },
  {
   "cell_type": "code",
   "execution_count": 1267,
   "id": "de33ed97-2ebf-4409-8024-19ddf9ea564f",
   "metadata": {},
   "outputs": [
    {
     "name": "stdout",
     "output_type": "stream",
     "text": [
      "Test Accuracy: 0.6460\n",
      "Train Accuracy: 0.7672\n",
      "\n",
      "Test Recall: 0.6460\n",
      "Train Recall: 0.7672\n",
      "\n",
      "Test Precision: 0.5988\n",
      "Train Precision: 0.7592\n",
      "\n",
      "Test F1 Score: 0.6100\n",
      "Train F1 Score: 0.7575\n",
      "\n",
      "              precision    recall  f1-score   support\n",
      "\n",
      "       False       0.70      0.85      0.77        78\n",
      "        True       0.37      0.20      0.26        35\n",
      "\n",
      "    accuracy                           0.65       113\n",
      "   macro avg       0.54      0.52      0.51       113\n",
      "weighted avg       0.60      0.65      0.61       113\n",
      "\n"
     ]
    }
   ],
   "source": [
    "# Accuracy for K-Nearest Neighbor Classifier\n",
    "accuracy_test = accuracy_score(y_test, knn.predict(X_test))\n",
    "accuracy_train = accuracy_score(y_train, knn.predict(X_train))\n",
    "\n",
    "print(f\"Test Accuracy: {accuracy_test:.4f}\")\n",
    "print(f\"Train Accuracy: {accuracy_train:.4f}\\n\")\n",
    "\n",
    "# Recall for K-Nearest Neighbor Classifier\n",
    "recall_test = recall_score(y_test, knn.predict(X_test), average='weighted')\n",
    "recall_train = recall_score(y_train, knn.predict(X_train), average='weighted')\n",
    "\n",
    "print(f\"Test Recall: {recall_test:.4f}\")\n",
    "print(f\"Train Recall: {recall_train:.4f}\\n\")\n",
    "\n",
    "# Precision for K-Nearest Neighbor Classifier\n",
    "precision_test = precision_score(y_test, knn.predict(X_test), average='weighted')\n",
    "precision_train = precision_score(y_train, knn.predict(X_train), average='weighted')\n",
    "\n",
    "print(f\"Test Precision: {precision_test:.4f}\")\n",
    "print(f\"Train Precision: {precision_train:.4f}\\n\")\n",
    "\n",
    "# F-1 Score for K-Nearest Neighbor Classifier\n",
    "f1_test = f1_score(y_test, knn.predict(X_test), average='weighted')\n",
    "f1_train = f1_score(y_train, knn.predict(X_train), average='weighted')\n",
    "\n",
    "print(f\"Test F1 Score: {f1_test:.4f}\")\n",
    "print(f\"Train F1 Score: {f1_train:.4f}\\n\")\n",
    "\n",
    "print(classification_report(y_test, knn.predict(X_test)))\n"
   ]
  },
  {
   "cell_type": "code",
   "execution_count": 1268,
   "id": "647a0622-61b0-4fd5-bd5c-06e4ff01f84a",
   "metadata": {},
   "outputs": [],
   "source": [
    "knn_search_accuracy = KNeighborsClassifier()\n",
    "param_grid = {\"n_neighbors\": np.arange(1, 100)}\n",
    "knn_gscv = GridSearchCV(knn_search_accuracy, param_grid, cv=5)\n",
    "knn_gscv.fit(X_train, y_train)\n",
    "best_knn = knn_gscv.best_estimator_"
   ]
  },
  {
   "cell_type": "code",
   "execution_count": 1269,
   "id": "de8fb201-aca6-4790-88ba-9a0812c3f38f",
   "metadata": {},
   "outputs": [],
   "source": [
    "knn_search_recall = KNeighborsClassifier()\n",
    "knn_gscv2 = GridSearchCV(knn_search_recall, param_grid, cv=5, scoring=\"recall\")\n",
    "knn_gscv2.fit(X_train, y_train)\n",
    "best_recall = knn_gscv2.best_estimator_"
   ]
  },
  {
   "cell_type": "code",
   "execution_count": 1270,
   "id": "b86cbb8a-a77b-481c-85c2-0a57afe45dfa",
   "metadata": {},
   "outputs": [
    {
     "name": "stdout",
     "output_type": "stream",
     "text": [
      "Recall of KNeighborsClassifier(n_neighbors=3) on test data is : 0.6460176991150443\n",
      "Recall of KNeighborsClassifier(n_neighbors=3) on train data is : 0.767175572519084\n",
      "\n",
      "Recall of KNeighborsClassifier(n_neighbors=12) on test data is : 0.672566371681416\n",
      "Recall of KNeighborsClassifier(n_neighbors=12) on train data is : 0.6870229007633588\n",
      "\n",
      "Recall of KNeighborsClassifier(n_neighbors=1) on test data is : 0.5486725663716814\n",
      "Recall of KNeighborsClassifier(n_neighbors=1) on train data is : 0.9885496183206107\n",
      "\n"
     ]
    }
   ],
   "source": [
    "# Recall for K-Nearest Neighbor Classifier using Grid search CV\n",
    "models = [knn, best_knn, best_recall]\n",
    "for m in models:\n",
    "\n",
    "    recall_test=recall_score(y_test, m.predict(X_test), average='weighted')\n",
    "    print(f'Recall of {m} on test data is : {recall_test}')\n",
    "    recall_train=recall_score(y_train, m.predict(X_train), average='weighted')\n",
    "    print(f'Recall of {m} on train data is : {recall_train}\\n')"
   ]
  },
  {
   "cell_type": "code",
   "execution_count": 1271,
   "id": "fdfb6af2-75ea-49be-9097-1d3ea301ed33",
   "metadata": {},
   "outputs": [
    {
     "name": "stdout",
     "output_type": "stream",
     "text": [
      "Test Accuracy: 0.6726\n",
      "Train Accuracy: 0.6870\n",
      "\n",
      "Test Precision: 0.5524\n",
      "Train Precision: 0.6600\n",
      "\n",
      "Test F1 Score: 0.5696\n",
      "Train F1 Score: 0.6223\n",
      "\n",
      "              precision    recall  f1-score   support\n",
      "\n",
      "       False       0.69      0.96      0.80        78\n",
      "        True       0.25      0.03      0.05        35\n",
      "\n",
      "    accuracy                           0.67       113\n",
      "   macro avg       0.47      0.50      0.43       113\n",
      "weighted avg       0.55      0.67      0.57       113\n",
      "\n"
     ]
    }
   ],
   "source": [
    "# Accuracy for K-Nearest Neighbor Classifier using Grid search CV\n",
    "accuracy_test = accuracy_score(y_test, best_knn.predict(X_test))\n",
    "accuracy_train = accuracy_score(y_train, best_knn.predict(X_train))\n",
    "\n",
    "print(f\"Test Accuracy: {accuracy_test:.4f}\")\n",
    "print(f\"Train Accuracy: {accuracy_train:.4f}\\n\")\n",
    "\n",
    "# Precision for K-Nearest Neighbor Classifier using Grid search CV\n",
    "precision_test = precision_score(y_test, best_knn.predict(X_test), average='weighted')\n",
    "precision_train = precision_score(y_train, best_knn.predict(X_train), average='weighted')\n",
    "\n",
    "print(f\"Test Precision: {precision_test:.4f}\")\n",
    "print(f\"Train Precision: {precision_train:.4f}\\n\")\n",
    "\n",
    "# F-1 Score for K-Nearest Neighbor Classifier using Grid search CV\n",
    "f1_test = f1_score(y_test, best_knn.predict(X_test), average='weighted')\n",
    "f1_train = f1_score(y_train, best_knn.predict(X_train), average='weighted')\n",
    "\n",
    "print(f\"Test F1 Score: {f1_test:.4f}\")\n",
    "print(f\"Train F1 Score: {f1_train:.4f}\\n\")\n",
    "\n",
    "print(classification_report(y_test, best_knn.predict(X_test)))\n"
   ]
  }
 ],
 "metadata": {
  "kernelspec": {
   "display_name": "Python 3 (ipykernel)",
   "language": "python",
   "name": "python3"
  },
  "language_info": {
   "codemirror_mode": {
    "name": "ipython",
    "version": 3
   },
   "file_extension": ".py",
   "mimetype": "text/x-python",
   "name": "python",
   "nbconvert_exporter": "python",
   "pygments_lexer": "ipython3",
   "version": "3.11.1"
  }
 },
 "nbformat": 4,
 "nbformat_minor": 5
}
